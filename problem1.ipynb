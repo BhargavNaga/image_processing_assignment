{
 "cells": [
  {
   "cell_type": "markdown",
   "metadata": {},
   "source": [
    "## computing psnr quality of blurred  image\n",
    "\n",
    "### PSNR < 20 dB: Very poor quality, significant distortion, visible artifacts.\n",
    "### 20 dB < PSNR < 25 dB: Poor quality, noticeable distortion, visible artifacts.\n",
    "### 25 dB < PSNR < 30 dB: Fair quality, moderate distortion, some artifacts may be visible.\n",
    "### 30 dB < PSNR < 35 dB: Good quality, minimal distortion, few visible artifacts.\n",
    "### PSNR > 35 dB: Very good quality, minimal to no distortion, no visible artifacts."
   ]
  },
  {
   "cell_type": "code",
   "execution_count": 20,
   "metadata": {},
   "outputs": [
    {
     "name": "stdout",
     "output_type": "stream",
     "text": [
      "PSNR between original and degraded images: 17.301170737005304\n"
     ]
    }
   ],
   "source": [
    "import cv2\n",
    "import numpy as np\n",
    "import os\n",
    "\n",
    "def mse(image1, image2):\n",
    "    # Compute Mean Squared Error (MSE) between two images\n",
    "    err = np.sum((image1.astype(\"int\") - image2.astype(\"int\")) ** 2)\n",
    "    err /= float(image1.shape[0] * image1.shape[1])\n",
    "    return err\n",
    "\n",
    "def psnr(image1, image2):\n",
    "    # Calculate PSNR (Peak Signal-to-Noise Ratio) using MSE\n",
    "    max_pixel_value = 255.0\n",
    "    mse_value = mse(image1, image2)\n",
    "    if mse_value == 0:\n",
    "        return float('inf')\n",
    "    return 10 * np.log10((max_pixel_value ** 2) / mse_value)\n",
    "\n",
    "# Load the original image\n",
    "path = \"A:\\image_processing_assignment\\images\"\n",
    "original_image = cv2.imread(\"A:\\image_processing_assignment\\images\\img.jpg\")\n",
    "\n",
    "# Blur the original image to create a degraded image\n",
    "blurred_image = cv2.GaussianBlur(original_image, (11, 11), 0).astype(np.uint8)\n",
    "\n",
    "# Add Gaussian noise to the blurred image\n",
    "mean = 0\n",
    "sigma = 20\n",
    "noisy_image = np.clip(blurred_image.astype(np.float32) + np.random.normal(mean, sigma, blurred_image.shape), 0, 255).astype(np.uint8)\n",
    "# save the noisy image\n",
    "cv2.imwrite(os.path.join(path, 'noisy_img.jpg'), noisy_image)\n",
    "\n",
    "# Calculate PSNR between original and degraded images\n",
    "psnr_value = psnr(original_image, noisy_image)\n",
    "\n",
    "print(\"PSNR between original and degraded images:\", psnr_value)\n"
   ]
  },
  {
   "cell_type": "markdown",
   "metadata": {},
   "source": [
    "## PSNR value after applying compression and decompression to original image"
   ]
  },
  {
   "cell_type": "code",
   "execution_count": 22,
   "metadata": {},
   "outputs": [
    {
     "name": "stdout",
     "output_type": "stream",
     "text": [
      "PSNR between original and degraded images: 41.50855452999374\n"
     ]
    }
   ],
   "source": [
    "path = \"A:\\image_processing_assignment\\images\"\n",
    "\n",
    "def compress_decompress_image(image_path, compression_quality):\n",
    "    # Load the image\n",
    "    image = cv2.imread(image_path)\n",
    "\n",
    "    # Check if the image is loaded successfully\n",
    "    if image is None:\n",
    "        print(\"Error: Unable to load the image.\")\n",
    "        return\n",
    "\n",
    "    # Compression parameters\n",
    "    compression_params = [cv2.IMWRITE_JPEG2000_COMPRESSION_X1000, compression_quality]\n",
    "\n",
    "    # Compress the image using JPEG 2000\n",
    "    _, compressed_image = cv2.imencode(\".jp2\", image, compression_params)\n",
    "\n",
    "    # Decompress the image\n",
    "    decompressed_image = cv2.imdecode(compressed_image, cv2.IMREAD_COLOR)\n",
    "\n",
    "    return decompressed_image\n",
    "\n",
    "\n",
    "# Path to the image\n",
    "image_path = \"A:\\image_processing_assignment\\images\\img.jpg\"\n",
    "\n",
    "# Compression quality (70%-80%)\n",
    "compression_quality = 70\n",
    "\n",
    "# Compress and decompress the image\n",
    "decompressed_image = compress_decompress_image(image_path, compression_quality)\n",
    "\n",
    "cv2.imwrite(os.path.join(path, 'decompressed_img.jpg'), decompressed_image)\n",
    "\n",
    "psnr_value = psnr(original_image, decompressed_image)\n",
    "\n",
    "print(\"PSNR between original and degraded images:\", psnr_value)\n",
    "\n",
    "\n",
    "\n",
    "\n",
    "# Display the decompressed image\n",
    "cv2.imshow(\"Decompressed Image\", decompressed_image)\n",
    "cv2.waitKey(0)\n",
    "cv2.destroyAllWindows()\n",
    "\n"
   ]
  }
 ],
 "metadata": {
  "kernelspec": {
   "display_name": "Python 3",
   "language": "python",
   "name": "python3"
  },
  "language_info": {
   "codemirror_mode": {
    "name": "ipython",
    "version": 3
   },
   "file_extension": ".py",
   "mimetype": "text/x-python",
   "name": "python",
   "nbconvert_exporter": "python",
   "pygments_lexer": "ipython3",
   "version": "3.10.11"
  }
 },
 "nbformat": 4,
 "nbformat_minor": 2
}
